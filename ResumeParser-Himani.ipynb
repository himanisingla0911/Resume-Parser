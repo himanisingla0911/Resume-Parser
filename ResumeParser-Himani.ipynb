{
 "cells": [
  {
   "cell_type": "code",
   "execution_count": 2,
   "id": "10349436-3bd0-4b0f-8d63-a74508fd8db1",
   "metadata": {},
   "outputs": [],
   "source": [
    "from pdf2image import convert_from_path\n",
    "from transformers import pipeline\n",
    "import pytesseract\n",
    "import os\n",
    "\n",
    "# # Provide the full path to the Tesseract executable\n",
    "# pytesseract.pytesseract.tesseract_cmd = r'C:\\Program Files\\Tesseract-OCR\\tesseract.exe'\n",
    "\n",
    "\n",
    "# READING PDF FILE\n",
    "path = r\"C:\\Users\\Himani Singla\\Desktop\\HIMANI\\Pragra_Internship\\ResumeParser_finalll\\ResumeParser - Copy\\data\"\n",
    "file = [file for file in os.listdir(path) if file.endswith(\".pdf\")][0]\n",
    "\n",
    "# CONVERTING PDF TO IMAGES\n",
    "images = convert_from_path(f'Data//{file}', 500, poppler_path = r'C:\\Users\\Himani Singla\\Desktop\\HIMANI\\Pragra_Internship\\ResumeParser_finalll\\ResumeParser - Copy\\poppler-24.02.0\\Library\\bin')\n",
    "iter = 1\n",
    "for image in images:\n",
    "    image.save(f'Data//output{iter}.png')\n",
    "    iter += 1\n",
    "\n",
    "# LOADING MODEL\n",
    "nlp = pipeline(\n",
    "    \"document-question-answering\",\n",
    "    model=\"impira/layoutlm-document-qa\",\n",
    ")\n",
    "\n",
    "images = [file for file in os.listdir(path) if file.endswith(\".png\")]"
   ]
  },
  {
   "cell_type": "code",
   "execution_count": 4,
   "id": "27cafcc4-59d4-4ede-9efa-388c7274952d",
   "metadata": {
    "scrolled": true
   },
   "outputs": [
    {
     "name": "stdout",
     "output_type": "stream",
     "text": [
      "Answer: [{'score': 0.6254037022590637, 'answer': 'George Brown College,', 'start': 38, 'end': 40}]\n"
     ]
    }
   ],
   "source": [
    "# Provide the full path to the Tesseract executable\n",
    "pytesseract.pytesseract.tesseract_cmd = r'C:\\Program Files\\Tesseract-OCR\\tesseract.exe'\n",
    "\n",
    "image = int(input(f\"Which image would you like to use? (Total Pages = {len(images)})\"))\n",
    "question = input(\"Question: \")\n",
    "result = nlp(f\"{path}\\\\{images[image-1]}\", question)\n",
    "print(\"Answer:\", result)"
   ]
  },
  {
   "cell_type": "code",
   "execution_count": 5,
   "id": "8a3a8ca3-afb4-4eca-bcf0-d1c410f39646",
   "metadata": {
    "scrolled": true
   },
   "outputs": [
    {
     "name": "stdout",
     "output_type": "stream",
     "text": [
      "where did they work in the latest experince?\n",
      "Answer: [{'score': 0.9978484511375427, 'answer': 'NatGasHub', 'start': 92, 'end': 92}]\n"
     ]
    }
   ],
   "source": [
    "pytesseract.pytesseract.tesseract_cmd = r'C:\\Program Files\\Tesseract-OCR\\tesseract.exe'\n",
    "image = int(input(f\"Which image would you like to use? (Total Pages = {len(images)})\"))\n",
    "question = input(\"Question: \")\n",
    "result = nlp(f\"{path}\\\\{images[image-1]}\", question)\n",
    "print(question)\n",
    "print(\"Answer:\", result)"
   ]
  },
  {
   "cell_type": "code",
   "execution_count": 7,
   "id": "236766b9-6db0-4691-bebe-a23960f6e2ae",
   "metadata": {
    "scrolled": true
   },
   "outputs": [
    {
     "name": "stdout",
     "output_type": "stream",
     "text": [
      "what the dates mention in the latest comany in the experience\n",
      "Answer: [{'score': 0.8371082544326782, 'answer': 'June 2022 - August 2023', 'start': 93, 'end': 97}]\n"
     ]
    }
   ],
   "source": [
    "image = int(input(f\"Which image would you like to use? (Total Pages = {len(images)})\"))\n",
    "question = input(\"Question: \")\n",
    "result = nlp(f\"{path}\\\\{images[image-1]}\", question)\n",
    "print(question)\n",
    "print(\"Answer:\", result)"
   ]
  },
  {
   "cell_type": "code",
   "execution_count": 9,
   "id": "d204b0fe-6c71-4549-bb7f-95638c42a7e7",
   "metadata": {},
   "outputs": [
    {
     "name": "stdout",
     "output_type": "stream",
     "text": [
      "what is the name of the city of the latest company in the experience?\n",
      "Answer: [{'score': 0.0008634573314338923, 'answer': 'New Delhi', 'start': 381, 'end': 382}]\n"
     ]
    }
   ],
   "source": [
    "image = int(input(f\"Which image would you like to use? (Total Pages = {len(images)})\"))\n",
    "question = input(\"Question: \")\n",
    "result = nlp(f\"{path}\\\\{images[image-1]}\", question)\n",
    "print(question)\n",
    "print(\"Answer:\", result)"
   ]
  },
  {
   "cell_type": "code",
   "execution_count": 10,
   "id": "d5e2a132",
   "metadata": {},
   "outputs": [
    {
     "name": "stdout",
     "output_type": "stream",
     "text": [
      "what is wok done in the latest experience?\n",
      "Answer: [{'score': 0.9356281161308289, 'answer': 'Conducted advanced data mining and pre-processing on diverse datasets,', 'start': 116, 'end': 124}]\n"
     ]
    }
   ],
   "source": [
    "image = int(input(f\"Which image would you like to use? (Total Pages = {len(images)})\"))\n",
    "question = input(\"Question: \")\n",
    "result = nlp(f\"{path}\\\\{images[image-1]}\", question)\n",
    "print(question)\n",
    "print(\"Answer:\", result)"
   ]
  },
  {
   "cell_type": "code",
   "execution_count": 12,
   "id": "66c3be4a",
   "metadata": {},
   "outputs": [
    {
     "name": "stdout",
     "output_type": "stream",
     "text": [
      "what projects are done in the latest experience?\n",
      "Answer: [{'score': 0.02120622619986534, 'answer': 'NatGasHub', 'start': 92, 'end': 92}]\n"
     ]
    }
   ],
   "source": [
    "image = int(input(f\"Which image would you like to use? (Total Pages = {len(images)})\"))\n",
    "question = input(\"Question: \")\n",
    "result = nlp(f\"{path}\\\\{images[image-1]}\", question)\n",
    "print(question)\n",
    "print(\"Answer:\", result)"
   ]
  },
  {
   "cell_type": "code",
   "execution_count": 8,
   "id": "bf070326",
   "metadata": {},
   "outputs": [
    {
     "name": "stdout",
     "output_type": "stream",
     "text": [
      "what are all the tasks done in the latest experince?\n",
      "Answer: [{'score': 0.005814665462821722, 'answer': 'data cleansing and formatting', 'start': 212, 'end': 215}]\n"
     ]
    }
   ],
   "source": [
    "image = int(input(f\"Which image would you like to use? (Total Pages = {len(images)})\"))\n",
    "question = input(\"Question: \")\n",
    "result = nlp(f\"{path}\\\\{images[image-1]}\", question)\n",
    "print(question)\n",
    "print(\"Answer:\", result)"
   ]
  },
  {
   "cell_type": "code",
   "execution_count": 11,
   "id": "02e91f25",
   "metadata": {},
   "outputs": [
    {
     "name": "stdout",
     "output_type": "stream",
     "text": [
      "where did the work earlier to gain experince?\n",
      "Answer: [{'score': 0.5407181978225708, 'answer': 'Mohali, India', 'start': 123, 'end': 124}]\n"
     ]
    }
   ],
   "source": [
    "image = int(input(f\"Which image would you like to use? (Total Pages = {len(images)})\"))\n",
    "question = input(\"Question: \")\n",
    "result = nlp(f\"{path}\\\\{images[image-1]}\", question)\n",
    "print(question)\n",
    "print(\"Answer:\", result)"
   ]
  },
  {
   "cell_type": "code",
   "execution_count": 13,
   "id": "7fa1df87",
   "metadata": {},
   "outputs": [
    {
     "name": "stdout",
     "output_type": "stream",
     "text": [
      " what is the complete gmail id?\n",
      "Answer: [{'score': 0.6121386885643005, 'answer': 'himanisingla603 @gmail.com', 'start': 6, 'end': 7}]\n"
     ]
    }
   ],
   "source": [
    "image = int(input(f\"Which image would you like to use? (Total Pages = {len(images)})\"))\n",
    "question = input(\"Question: \")\n",
    "result = nlp(f\"{path}\\\\{images[image-1]}\", question)\n",
    "print(question)\n",
    "print(\"Answer:\", result)"
   ]
  },
  {
   "cell_type": "code",
   "execution_count": 14,
   "id": "df88655d",
   "metadata": {},
   "outputs": [
    {
     "name": "stdout",
     "output_type": "stream",
     "text": [
      "what s the linkedin url\n",
      "Answer: [{'score': 0.6845542192459106, 'answer': 'httos://www.linkedin.com/in/himanihimani', 'start': 8, 'end': 8}]\n"
     ]
    }
   ],
   "source": [
    "image = int(input(f\"Which image would you like to use? (Total Pages = {len(images)})\"))\n",
    "question = input(\"Question: \")\n",
    "result = nlp(f\"{path}\\\\{images[image-1]}\", question)\n",
    "print(question)\n",
    "print(\"Answer:\", result)"
   ]
  },
  {
   "cell_type": "code",
   "execution_count": 15,
   "id": "03f986bc",
   "metadata": {},
   "outputs": [
    {
     "name": "stdout",
     "output_type": "stream",
     "text": [
      "what is the telepone number?\n",
      "Answer: [{'score': 0.40227386355400085, 'answer': '+1-437-733-5572', 'start': 9, 'end': 9}]\n"
     ]
    }
   ],
   "source": [
    "image = int(input(f\"Which image would you like to use? (Total Pages = {len(images)})\"))\n",
    "question = input(\"Question: \")\n",
    "result = nlp(f\"{path}\\\\{images[image-1]}\", question)\n",
    "print(question)\n",
    "print(\"Answer:\", result)"
   ]
  },
  {
   "cell_type": "code",
   "execution_count": 26,
   "id": "66d4aeac",
   "metadata": {},
   "outputs": [
    {
     "name": "stdout",
     "output_type": "stream",
     "text": [
      "please mention the name only\n",
      "Answer: [{'score': 0.32027488946914673, 'answer': 'himanisingla603', 'start': 6, 'end': 6}]\n"
     ]
    }
   ],
   "source": [
    "image = int(input(f\"Which image would you like to use? (Total Pages = {len(images)})\"))\n",
    "question = input(\"Question: \")\n",
    "result = nlp(f\"{path}\\\\{images[image-1]}\", question)\n",
    "print(question)\n",
    "print(\"Answer:\", result)"
   ]
  },
  {
   "cell_type": "code",
   "execution_count": null,
   "id": "a2d1dbd9",
   "metadata": {},
   "outputs": [],
   "source": [
    "image = int(input(f\"Which image would you like to use? (Total Pages = {len(images)})\"))\n",
    "question = input(\"Question: \")\n",
    "result = nlp(f\"{path}\\\\{images[image-1]}\", question)\n",
    "print(question)\n",
    "print(\"Answer:\", result)"
   ]
  },
  {
   "cell_type": "code",
   "execution_count": 27,
   "id": "38aa47c9",
   "metadata": {},
   "outputs": [
    {
     "name": "stdout",
     "output_type": "stream",
     "text": [
      "what is the project name\n",
      "Answer: [{'score': 0.00015292121679522097, 'answer': 'Excel Basics for Data Analysis', 'start': 336, 'end': 340}]\n"
     ]
    }
   ],
   "source": [
    "image = int(input(f\"Which image would you like to use? (Total Pages = {len(images)})\"))\n",
    "question = input(\"Question: \")\n",
    "result = nlp(f\"{path}\\\\{images[image-1]}\", question)\n",
    "print(question)\n",
    "print(\"Answer:\", result)"
   ]
  },
  {
   "cell_type": "code",
   "execution_count": 40,
   "id": "6c56b610",
   "metadata": {},
   "outputs": [
    {
     "name": "stdout",
     "output_type": "stream",
     "text": [
      "what is the oldest course name in the education section?\n",
      "Answer: [{'score': 0.8627114295959473, 'answer': 'physics.', 'start': 58, 'end': 58}]\n"
     ]
    }
   ],
   "source": [
    "image = int(input(f\"Which image would you like to use? (Total Pages = {len(images)})\"))\n",
    "question = input(\"Question: \")\n",
    "result = nlp(f\"{path}\\\\{images[image-1]}\", question)\n",
    "print(question)\n",
    "print(\"Answer:\", result)"
   ]
  },
  {
   "cell_type": "code",
   "execution_count": 44,
   "id": "87b6745b",
   "metadata": {},
   "outputs": [
    {
     "name": "stdout",
     "output_type": "stream",
     "text": [
      " what are the dates in the primary school?\n",
      "Answer: [{'score': 0.8749240636825562, 'answer': '2016-2020', 'start': 10, 'end': 10}]\n"
     ]
    }
   ],
   "source": [
    "image = int(input(f\"Which image would you like to use? (Total Pages = {len(images)})\"))\n",
    "question = input(\"Question: \")\n",
    "result = nlp(f\"{path}\\\\{images[image-1]}\", question)\n",
    "print(question)\n",
    "print(\"Answer:\", result)"
   ]
  },
  {
   "cell_type": "code",
   "execution_count": 45,
   "id": "ea16b56c",
   "metadata": {},
   "outputs": [
    {
     "name": "stdout",
     "output_type": "stream",
     "text": [
      "what is name of the university  in the primary school?\n",
      "Answer: [{'score': 0.9997820258140564, 'answer': 'Chandigarh University', 'start': 7, 'end': 8}]\n"
     ]
    }
   ],
   "source": [
    "image = int(input(f\"Which image would you like to use? (Total Pages = {len(images)})\"))\n",
    "question = input(\"Question: \")\n",
    "result = nlp(f\"{path}\\\\{images[image-1]}\", question)\n",
    "print(question)\n",
    "print(\"Answer:\", result)"
   ]
  },
  {
   "cell_type": "code",
   "execution_count": 46,
   "id": "3fbe02cc",
   "metadata": {},
   "outputs": [
    {
     "name": "stdout",
     "output_type": "stream",
     "text": [
      "what is name of course in primary school?\n",
      "Answer: [{'score': 0.5543707013130188, 'answer': 'Bachelor of Engineering - Information Technology', 'start': 1, 'end': 6}]\n"
     ]
    }
   ],
   "source": [
    "image = int(input(f\"Which image would you like to use? (Total Pages = {len(images)})\"))\n",
    "question = input(\"Question: \")\n",
    "result = nlp(f\"{path}\\\\{images[image-1]}\", question)\n",
    "print(question)\n",
    "print(\"Answer:\", result)"
   ]
  },
  {
   "cell_type": "code",
   "execution_count": null,
   "id": "d5c470ec",
   "metadata": {},
   "outputs": [],
   "source": []
  }
 ],
 "metadata": {
  "kernelspec": {
   "display_name": "Python 3",
   "language": "python",
   "name": "python3"
  },
  "language_info": {
   "codemirror_mode": {
    "name": "ipython",
    "version": 3
   },
   "file_extension": ".py",
   "mimetype": "text/x-python",
   "name": "python",
   "nbconvert_exporter": "python",
   "pygments_lexer": "ipython3",
   "version": "3.11.5"
  }
 },
 "nbformat": 4,
 "nbformat_minor": 5
}
