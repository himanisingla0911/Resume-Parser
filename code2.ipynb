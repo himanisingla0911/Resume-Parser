{
 "cells": [
  {
   "cell_type": "code",
   "execution_count": 2,
   "metadata": {},
   "outputs": [
    {
     "name": "stdout",
     "output_type": "stream",
     "text": [
      "WARNING:tensorflow:From c:\\Users\\Himani Singla\\AppData\\Local\\Programs\\Python\\Python311\\Lib\\site-packages\\keras\\src\\losses.py:2976: The name tf.losses.sparse_softmax_cross_entropy is deprecated. Please use tf.compat.v1.losses.sparse_softmax_cross_entropy instead.\n",
      "\n"
     ]
    }
   ],
   "source": [
    "from pdf2image import convert_from_path\n",
    "from transformers import pipeline\n",
    "import pytesseract\n",
    "import os\n",
    "import json\n",
    "from docx import Document\n",
    "from docx2pdf import convert as docx2pdf_convert\n",
    "from PIL import Image\n",
    "import io"
   ]
  },
  {
   "cell_type": "code",
   "execution_count": 3,
   "metadata": {},
   "outputs": [],
   "source": [
    "# Provide the full path to the Tesseract executable\n",
    "pytesseract.pytesseract.tesseract_cmd = r'C:\\Program Files\\Tesseract-OCR\\tesseract.exe'\n",
    "\n",
    "# READING DOCUMENT FILE\n",
    "path = r\"C:\\Users\\Himani Singla\\Desktop\\HIMANI\\Pragra_Internship\\ResumeParser_finalll\\ResumeParser - Copy\\data\"\n",
    "files = [file for file in os.listdir(path) if file.endswith((\".pdf\", \".docx\"))]\n",
    "\n",
    "if not files:\n",
    "    print(\"No PDF or Word documents found in the specified directory.\")\n",
    "    exit()\n",
    "\n",
    "file = files[0]\n",
    "file_path = os.path.join(path, file)\n",
    "\n",
    "if file.endswith(\".pdf\"):\n",
    "    # CONVERTING PDF TO IMAGES\n",
    "    images = convert_from_path(file_path, 500, poppler_path=r'C:\\Users\\Himani Singla\\Desktop\\HIMANI\\Pragra_Internship\\ResumeParser_finalll\\ResumeParser - Copy\\poppler-24.02.0\\Library\\bin')\n",
    "elif file.endswith(\".docx\"):\n",
    "    # CONVERTING DOCX TO PDF FIRST, THEN TO IMAGES\n",
    "    temp_pdf_path = file_path.replace(\".docx\", \".pdf\")\n",
    "    docx2pdf_convert(file_path, temp_pdf_path)\n",
    "    images = convert_from_path(temp_pdf_path, 500, poppler_path=r'C:\\Users\\Himani Singla\\Desktop\\HIMANI\\Pragra_Internship\\ResumeParser_finalll\\ResumeParser - Copy\\poppler-24.02.0\\Library\\bin')\n",
    "    os.remove(temp_pdf_path)  # Remove temporary PDF file\n",
    "\n",
    "# Save images\n",
    "image_paths = []\n",
    "iter = 1\n",
    "for image in images:\n",
    "    image_path = f'{path}\\\\output{iter}.png'\n",
    "    image.save(image_path)\n",
    "    image_paths.append(image_path)\n",
    "    iter += 1"
   ]
  },
  {
   "cell_type": "code",
   "execution_count": 4,
   "metadata": {},
   "outputs": [],
   "source": [
    "# LOADING MODEL\n",
    "nlp = pipeline(\n",
    "    \"document-question-answering\",\n",
    "    model=\"impira/layoutlm-document-qa\",\n",
    ")"
   ]
  },
  {
   "cell_type": "code",
   "execution_count": 11,
   "metadata": {},
   "outputs": [],
   "source": [
    "# Predefined questions\n",
    "questions = [\n",
    "    \"what is the name \",\n",
    "    \"What is the complete gmail id?\",\n",
    "    \"What is the telephone number?\",\n",
    "    \"What is the  LinkedIn ID ?\",\n",
    "    \"Where did they work in the latest experience?\",\n",
    "    \"what is the name of company they worked in the experience section\",\n",
    "    \"what are the dates mention in the latest company in the experience\",\n",
    "    \"what is work done in the latest experience?\",\n",
    "    \"what are all the tasks done in the latest experince?\",\n",
    "    \"what is name of the university  DURING bachelors?\",\n",
    "    \"what is the bachelors's course?\",\n",
    "    \"what is name of the university  DURING masters?\",\n",
    "    \"what is the masters's course?\",\n",
    "    \"what is name of the college or university of latest education?\",\n",
    "    \"what is the latest course ?\",\n",
    "\n",
    "]\n",
    "\n",
    "# Dictionary to store all answers\n",
    "all_answers = []\n",
    "\n",
    "# Loop through each question and find the answer\n",
    "for question in questions:\n",
    "    answer_found = False\n",
    "    answer_data = {\n",
    "        \"question\": question,\n",
    "        \"answer\": None,\n",
    "        \"page\": None\n",
    "    }\n",
    "    \n",
    "    for idx, image_path in enumerate(image_paths):\n",
    "        result = nlp(image_path, question)\n",
    "        if result:  # Check if an answer is found\n",
    "            answer_found = True\n",
    "            answer_data[\"answer\"] = result\n",
    "            answer_data[\"page\"] = idx + 1\n",
    "            break\n",
    "    \n",
    "    if not answer_found:\n",
    "        answer_data[\"answer\"] = \"No answer found in the document.\"\n",
    "    \n",
    "    all_answers.append(answer_data)"
   ]
  },
  {
   "cell_type": "code",
   "execution_count": 12,
   "metadata": {},
   "outputs": [
    {
     "name": "stdout",
     "output_type": "stream",
     "text": [
      "All answers stored in C:\\Users\\Himani Singla\\Desktop\\HIMANI\\Pragra_Internship\\ResumeParser_finalll\\ResumeParser - Copy\\data\\answers.json\n"
     ]
    }
   ],
   "source": [
    "# Define the path to save the JSON file\n",
    "output_json_path = os.path.join(path, \"answers.json\")\n",
    "\n",
    "# Writing all answers to a JSON file\n",
    "try:\n",
    "    with open(output_json_path, \"w\") as json_file:\n",
    "        json.dump(all_answers, json_file, indent=4)\n",
    "    print(f\"All answers stored in {output_json_path}\")\n",
    "except IOError as e:\n",
    "    print(f\"Failed to write to file: {e}\")"
   ]
  },
  {
   "cell_type": "code",
   "execution_count": null,
   "metadata": {},
   "outputs": [],
   "source": []
  }
 ],
 "metadata": {
  "kernelspec": {
   "display_name": "Python 3",
   "language": "python",
   "name": "python3"
  },
  "language_info": {
   "codemirror_mode": {
    "name": "ipython",
    "version": 3
   },
   "file_extension": ".py",
   "mimetype": "text/x-python",
   "name": "python",
   "nbconvert_exporter": "python",
   "pygments_lexer": "ipython3",
   "version": "3.11.5"
  }
 },
 "nbformat": 4,
 "nbformat_minor": 2
}
